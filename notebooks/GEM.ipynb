{
 "cells": [
  {
   "cell_type": "code",
   "execution_count": 1,
   "id": "1d7fb43f",
   "metadata": {},
   "outputs": [
    {
     "data": {
      "text/plain": [
       "'ViT-B/32            : openai\\nViT-B/32            : laion400m_e31\\nViT-B/32            : laion400m_e32\\nViT-B/32            : laion2b_e16\\nViT-B/32            : laion2b_s34b_b79k\\nViT-B/32-quickgelu  : metaclip_400m\\nViT-B/32-quickgelu  : metaclip_fullcc\\nViT-B/16            : openai\\nViT-B/16            : laion400m_e31\\nViT-B/16            : laion400m_e32\\nViT-B/16            : laion2b_s34b_b88k\\nViT-B/16-quickgelu  : metaclip_400m\\nViT-B/16-quickgelu  : metaclip_fullcc\\nViT-B/16-plus-240   : laion400m_e31\\nViT-B/16-plus-240   : laion400m_e32\\nViT-L/14            : openai\\nViT-L/14            : laion400m_e31\\nViT-L/14            : laion400m_e32\\nViT-L/14            : laion2b_s32b_b82k\\nViT-L/14-quickgelu  : metaclip_400m\\nViT-L/14-quickgelu  : metaclip_fullcc\\nViT-L/14-336        : openai\\n'"
      ]
     },
     "execution_count": 1,
     "metadata": {},
     "output_type": "execute_result"
    }
   ],
   "source": [
    "import gem\n",
    "gem.available_models()"
   ]
  },
  {
   "cell_type": "code",
   "execution_count": null,
   "id": "7bcfb142",
   "metadata": {},
   "outputs": [],
   "source": []
  }
 ],
 "metadata": {
  "kernelspec": {
   "display_name": "Python 3 (ipykernel)",
   "language": "python",
   "name": "python3"
  },
  "language_info": {
   "codemirror_mode": {
    "name": "ipython",
    "version": 3
   },
   "file_extension": ".py",
   "mimetype": "text/x-python",
   "name": "python",
   "nbconvert_exporter": "python",
   "pygments_lexer": "ipython3",
   "version": "3.10.12"
  }
 },
 "nbformat": 4,
 "nbformat_minor": 5
}
